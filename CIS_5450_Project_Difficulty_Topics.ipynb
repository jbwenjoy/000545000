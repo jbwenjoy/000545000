{
  "nbformat": 4,
  "nbformat_minor": 0,
  "metadata": {
    "colab": {
      "provenance": []
    },
    "kernelspec": {
      "name": "python3",
      "display_name": "Python 3"
    },
    "language_info": {
      "name": "python"
    }
  },
  "cells": [
    {
      "cell_type": "markdown",
      "source": [
        "# CIS 5450 Project: Difficulty Topics\n",
        "**Team Members:** Bowen Jiang, Binglong Bao, Yiyan Liang\n",
        "\n",
        "> This notebook documents how you implemented difficulty topics in your project. Use the link button in the top right when you select a cell to get a **hyperlink**.\n"
      ],
      "metadata": {
        "id": "G7fXCyFHPr3X"
      }
    },
    {
      "cell_type": "markdown",
      "source": [
        "---\n",
        "\n",
        "## Topic: 1: **Hypothesis Testing**\n",
        "**Hyperlink:** https://colab.research.google.com/github/jbwenjoy/000545000/blob/jbw/CIS_545_Final.ipynb#scrollTo=e9ccb52c\n",
        "\n",
        "### Implementation & Rationale\n",
        "\n",
        "\n",
        "#### How did you implement this topic and why did you use it?\n",
        "\n",
        "To further validate our insights, we plan to conduct statistical hypothesis testing on key factors that may influence airfare pricing. We examine two major hypotheses that may influence airfare pricing: seasonality effects and fuel cost influence.\n",
        "\n",
        "We utilized the ANOVA to test if there is seasonal effect in the average fare price, and utilized panel data regression analysis to assess differential impacts of fuel price changes across route types over time."
      ],
      "metadata": {
        "id": "e1jBlYLxQcNV"
      }
    },
    {
      "cell_type": "markdown",
      "source": [
        "---\n",
        "\n",
        "## Topic: 2: **Other visualization packages**\n",
        "**Hyperlink:** https://colab.research.google.com/github/jbwenjoy/000545000/blob/jbw/CIS_545_Final.ipynb#scrollTo=6e4fd10c\n",
        "\n",
        "### Implementation & Rationale\n",
        "\n",
        "\n",
        "#### How did you implement this topic and why did you use it?\n",
        "\n",
        "We utilized plotly to show the performance of the model, and we find plotly could support interactive vision effects, which could help use better show the data."
      ],
      "metadata": {
        "id": "ZUfPpvutQyA3"
      }
    },
    {
      "cell_type": "markdown",
      "source": [
        "---\n",
        "\n",
        "## Topic: 3: **Ensemble Model**\n",
        "**Hyperlink:** https://colab.research.google.com/github/jbwenjoy/000545000/blob/jbw/CIS_545_Final.ipynb#scrollTo=5ee94781\n",
        "\n",
        "### Implementation & Rationale\n",
        "\n",
        "\n",
        "#### How did you implement this topic and why did you use it?\n",
        "\n",
        "We utilized the boosting model XGBoost to do the regression, which is a typical ensemble model using boosting. This model could help us learn the complex, non-linear relationship between the features and the label. Also, it is compatible with high dimensional categorical features."
      ],
      "metadata": {
        "id": "hMWIG0EXQ3sa"
      }
    },
    {
      "cell_type": "code",
      "source": [],
      "metadata": {
        "id": "ktpEIlgB4nIV"
      },
      "execution_count": null,
      "outputs": []
    }
  ]
}
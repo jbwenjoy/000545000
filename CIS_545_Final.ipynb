{
 "cells": [
  {
   "cell_type": "markdown",
   "id": "1bca7d20",
   "metadata": {
    "id": "view-in-github"
   },
   "source": [
    "<a href=\"https://colab.research.google.com/github/jbwenjoy/000545000/blob/jbw/CIS_545_Final.ipynb\" target=\"_parent\"><img src=\"https://colab.research.google.com/assets/colab-badge.svg\" alt=\"Open In Colab\"/></a>"
   ]
  },
  {
   "cell_type": "markdown",
   "id": "e6f15835",
   "metadata": {
    "id": "JCYy3-oaNtcU"
   },
   "source": []
  },
  {
   "cell_type": "markdown",
   "id": "6ce29939",
   "metadata": {
    "id": "gcAm1OLyNvWE"
   },
   "source": [
    "# **CIS 5450 Final Project - Spring 2025**\n",
    "## Group Member:\n",
    "Yiyan Liang: edgarl@seas.upenn.edu\n",
    "<br>Bowen Jiang: jbwenjoy@seas.upenn.edu\n",
    "<br>Binglong Bao: binglong@seas.upenn.edu"
   ]
  },
  {
   "cell_type": "markdown",
   "id": "ac1fb0b0",
   "metadata": {
    "id": "vS2nggaSOoXM"
   },
   "source": [
    "# **1. Introduction and Background**"
   ]
  },
  {
   "cell_type": "markdown",
   "id": "88cd1baa",
   "metadata": {
    "id": "GB88b5oxnE9e"
   },
   "source": [
    "## **1.1 Problem Statement**\n",
    "Airfare pricing in the U.S. domestic airline industry has long been a topic of interest due to its dynamic and opaque nature. From 1993 to 2024, the industry has undergone substantial changes including fluctuating fuel prices, shifting market competition, and evolving consumer behavior. These factors make it difficult for travelers to anticipate ticket prices and for airlines to optimize revenue through effective pricing strategies.\n",
    "\n",
    "Despite the abundance of large-scale data, there remains a lack of comprehensive, data-driven analyses that systematically explore the relationship between these variables and airfare trends. One of our team members is planning to book a flight during a holiday period and is particularly interested in understanding what drives changes in ticket prices. This curiosity sparked our interest and motivated us to investigate whether historical data could reveal meaningful patterns that help consumers make more informed travel decisions."
   ]
  },
  {
   "cell_type": "markdown",
   "id": "91a63039",
   "metadata": {
    "id": "rRs85zNSnE9e"
   },
   "source": [
    "## **1.2 Objective and Value Proposition**\n",
    "The objective of this project is to conduct a thorough exploratory data analysis (EDA) of U.S. domestic airline fares from 1993 to 2024, and to develop predictive models that capture how different variables affect airfare pricing. The project integrates route and fare data with external economic indicators such as oil prices to uncover insights into airfare dynamics.\n",
    "\n",
    "The primary goals are:\n",
    "\n",
    "- **Understand Key Drivers of Pricing:** Investigate how factors like route distance, seasonality, fuel costs, airline competition, and passenger volume affect airfares.\n",
    "\n",
    "- **Support Strategic Planning:** Provide insights to airline operators and policymakers for optimizing pricing strategies and understanding long-term market shifts.\n",
    "\n",
    "- **Build a Predictive Model:** Develop regression models capable of forecasting average fares given known market and economic conditions.\n",
    "\n",
    "The value proposition of this project lies in offering a systematic and scalable framework for analyzing complex fare-setting behavior across three decades. For consumers, it may lead to better fare predictions and smarter booking decisions. For industry stakeholders, it provides tools for data-informed pricing and long-term planning."
   ]
  },
  {
   "cell_type": "markdown",
   "id": "53424400",
   "metadata": {
    "id": "6AwNwCkzO9my"
   },
   "source": [
    "# **2. Data Loading and Preprocessing**\n",
    "\n"
   ]
  },
  {
   "cell_type": "markdown",
   "id": "f1505cf1",
   "metadata": {
    "id": "dY5_u3BGqR7F"
   },
   "source": [
    "## **2.1 📊 Overview of the Dataset**\n",
    "This project uses two complementary datasets to explore the relationship between airline ticket pricing and external economic factors, particularly oil prices. The integration of these datasets allows for a data-driven analysis of historical fare trends in the U.S. domestic airline market over the past three decades.\n",
    "### **✈️ US Airline Flight Routes and Fares (1993–2024)**\n",
    "**Source**: [Kaggle Dataset – US Airline Flight Routes and Fares (1993–2024)](https://www.kaggle.com/datasets/bhavikjikadara/us-airline-flight-routes-and-fares-1993-2024)\n",
    "\n",
    "This dataset provides detailed information on airline flight routes, average fares, passenger volume, and carrier competition across the United States.\n",
    "\n",
    "**Key Features:**\n",
    "- **Year & Quarter**: Time identifiers for each record, from 1993 to 2024.\n",
    "- **City1 & City2**: Names of origin and destination cities.\n",
    "- **Airport Codes**: Origin and destination airport identifiers.\n",
    "- **nsmiles**: Distance between airports in miles.\n",
    "- **Passengers**: Number of passengers on each route.\n",
    "- **Fare**: Average fare for the route.\n",
    "- **Carrier Info**: Largest and lowest-fare carrier codes, their market shares, and corresponding fares.\n",
    "- **Geographical Coordinates**: Latitude and longitude of both origin and destination cities.\n",
    "\n",
    "\n",
    "The dataset enables long-term trend analysis of pricing behavior, route dynamics, and airline competition in the domestic travel sector.\n",
    "\n",
    "---\n",
    "\n",
    "### **🛢️ WTI Crude Oil Daily Prices**\n",
    "\n",
    "Sourced from [DataHub](https://datahub.io/core/oil-prices), this dataset provides historical daily spot prices for West Texas Intermediate (WTI) crude oil.\n",
    "\n",
    "**Key Features:**\n",
    "- **Date**: Daily timestamps for each price record.\n",
    "- **Price**: The WTI crude oil price in USD per barrel.\n",
    "\n",
    "This dataset supports economic analysis and helps model the impact of fuel prices on airline operating costs.  \n",
    "\n",
    "By combining historical airfare and fuel price data, this project aims to:\n",
    "- Uncover patterns in ticket pricing.\n",
    "- Investigate the impact of fuel cost fluctuations on airline fares.\n",
    "- Improve prediction accuracy using external economic indicators.\n",
    "\n",
    "This integrated approach allows for a richer understanding of pricing behavior and supports more informed consumer and industry decisions.\n"
   ]
  },
  {
   "cell_type": "markdown",
   "id": "2089aade",
   "metadata": {
    "id": "XUajFmmwnE9e"
   },
   "source": [
    "## **2.2 Data Loading**"
   ]
  },
  {
   "cell_type": "markdown",
   "id": "e09bfbfc",
   "metadata": {
    "id": "MgnbnsGUp9sC"
   },
   "source": [
    "Import the relevant libraries for all stages of our report (pre-processing, exploratory data analysis, and model selection). These imports primarily span fundamental libraries such as `pandas`, `matplotlib`, `numpy`, and `sklearn`.\n",
    "\n",
    "\n"
   ]
  },
  {
   "cell_type": "code",
   "execution_count": null,
   "id": "b9f8c04b",
   "metadata": {
    "id": "c3YQPlxOPNyb",
    "lines_to_next_cell": 2
   },
   "outputs": [],
   "source": [
    "import os\n",
    "import pandas as pd\n",
    "import numpy as np\n",
    "from matplotlib import pyplot as plt\n",
    "from scipy import stats\n",
    "import seaborn as sns\n",
    "import matplotlib.pyplot as plt\n",
    "import warnings\n",
    "import plotly.graph_objects as go\n",
    "from sklearn.model_selection import train_test_split, GridSearchCV, cross_val_score\n",
    "from sklearn.pipeline import Pipeline\n",
    "from sklearn.preprocessing import MinMaxScaler, PolynomialFeatures, FunctionTransformer\n",
    "from sklearn.linear_model import Ridge\n",
    "from sklearn.linear_model import LinearRegression\n",
    "from sklearn.metrics import mean_squared_error, r2_score\n",
    "from sklearn.base import TransformerMixin, BaseEstimator"
   ]
  },
  {
   "cell_type": "code",
   "execution_count": null,
   "id": "dce02cda",
   "metadata": {
    "colab": {
     "base_uri": "https://localhost:8080/"
    },
    "id": "1r_TRCGenE9e",
    "outputId": "40a23091-f9dd-4b52-c23a-6fed945dc32e"
   },
   "outputs": [],
   "source": [
    "# Run this cell to mount your drive (you will be prompted to sign in)\n",
    "if 'google.colab' in str(get_ipython()):\n",
    "    from google.colab import drive\n",
    "    drive.mount('/content/drive', force_remount=True)"
   ]
  },
  {
   "cell_type": "markdown",
   "id": "4afb17e8",
   "metadata": {
    "id": "jeb22zIvfrUn"
   },
   "source": [
    "❗ ONLY RUN ONE OF THE TWO CELLS BELOW, SEE COMMENTS"
   ]
  },
  {
   "cell_type": "code",
   "execution_count": null,
   "id": "f281ec6b",
   "metadata": {
    "colab": {
     "base_uri": "https://localhost:8080/"
    },
    "id": "OQ9n1LcVe9LD",
    "lines_to_next_cell": 2,
    "outputId": "af6fcb3f-edd9-48d7-c2fb-c02a59f9f5e3"
   },
   "outputs": [],
   "source": [
    "\"\"\"\n",
    "RUN THIS CELL IF YOU WANT TO LOAD CACHED DATASETS FROM GOOGLE DRIVE\n",
    "DO NOT RUN THE NEXT CELL IF YOU DECIDE TO RUN THIS ONE!\n",
    "\"\"\"\n",
    "\n",
    "# If this is colab env, then mount the drive\n",
    "if 'google.colab' in str(get_ipython()):\n",
    "    print('Running on CoLab')\n",
    "    from google.colab import drive\n",
    "    drive.mount('/content/drive')\n",
    "\n",
    "    data_path_in_drive = '/content/drive/MyDrive/CIS545-final/'\n",
    "    flights_data = '/content/drive/MyDrive/CIS545-final/US Airline Flight Routes and Fares 1993-2024.csv'\n",
    "    fuel_data = '/content/drive/MyDrive/CIS545-final/flat-ui__data-Fri Mar 28 2025.csv'\n",
    "    kaggle_key = '/content/drive/MyDrive/CIS545-final/kaggle.json'\n",
    "else:\n",
    "    print('Not running on CoLab')\n",
    "    data_path_in_drive = './'\n",
    "    flights_data = './US Airline Flight Routes and Fares 1993-2024.csv'\n",
    "    fuel_data = './flat-ui__data-Fri Mar 28 2025.csv'\n",
    "    kaggle_key = './kaggle.json'\n",
    "\n",
    "# Check if these files exists\n",
    "file_paths = [\n",
    "    (data_path_in_drive, \"Directory\"),\n",
    "    (flights_data, \"File\"),\n",
    "    (fuel_data, \"File\"),\n",
    "    (kaggle_key, \"File\")\n",
    "]\n",
    "file_exists = True\n",
    "for path, file_type in file_paths:\n",
    "    if not os.path.exists(path):\n",
    "        file_exists = False\n",
    "        if file_type == \"Directory\":\n",
    "            os.makedirs(path)\n",
    "            print(f\"Directory '{path}' created successfully.\")\n",
    "        else:\n",
    "            print(f\"{file_type} '{path}' does not exist.\")\n",
    "\n",
    "    else:\n",
    "        print(f\"{file_type} '{path}' exists.\")"
   ]
  },
  {
   "cell_type": "code",
   "execution_count": null,
   "id": "41ed0902",
   "metadata": {
    "colab": {
     "base_uri": "https://localhost:8080/"
    },
    "id": "RU_Y3rm8nE9e",
    "outputId": "9aaca05a-628a-4532-bf0f-5d5c855f96d2"
   },
   "outputs": [],
   "source": [
    "\"\"\"\n",
    "RUN THIS CELL IF YOU WANT TO DOWNLOAD ONLINE DATASETS FROM KAGGLE AND DATAHUB\n",
    "DO NOT RUN THE PREVIOUS CELL IF YOU DECIDE TO RUN THIS ONE!\n",
    "\"\"\"\n",
    "try:\n",
    "    file_exists\n",
    "except NameError:\n",
    "    file_exists = False\n",
    "if not file_exists:\n",
    "    # Create the kaggle directory and\n",
    "    # (NOTE: Do NOT run this cell more than once unless restarting kernel)\n",
    "    !mkdir ~/.kaggle\n",
    "\n",
    "    # Read the uploaded kaggle.json file\n",
    "    !cp /content/drive/MyDrive/kaggle.json ~/.kaggle/\n",
    "\n",
    "    # Download flights dataset (DO NOT CHANGE)\n",
    "    !kaggle datasets download -d bhavikjikadara/us-airline-flight-routes-and-fares-1993-2024\n",
    "    !unzip /content/us-airline-flight-routes-and-fares-1993-2024\n",
    "\n",
    "    flights_data = 'US Airline Flight Routes and Fares 1993-2024.csv'\n",
    "    flights_df = pd.read_csv(flights_data, low_memory=False)\n",
    "\n",
    "    # Download WTI dataset (DO NOT CHANGE)\n",
    "    url = \"https://datahub.io/core/oil-prices/r/wti-daily.csv\"\n",
    "    oil_df = pd.read_csv(url)\n",
    "    oil_df.to_csv(\"flat-ui__data-Fri Mar 28 2025.csv\", index=False)\n",
    "    fuel_data = 'flat-ui__data-Fri Mar 28 2025.csv'"
   ]
  },
  {
   "cell_type": "markdown",
   "id": "5a00290a",
   "metadata": {
    "id": "rLz0vjUYt-tC"
   },
   "source": [
    "## **2.3 Data Prepossessing**\n",
    "### 🔍 Identified Data Challenges\n",
    "- **Missing and Anomalous Values**: Both datasets contain potential null values and outliers that need to be addressed for accurate analysis.\n",
    "- **Data Integration**: Airfare data is provided on a quarterly basis, while oil prices are reported daily. Proper aggregation and alignment are necessary to merge the two datasets effectively.\n",
    "\n",
    "---\n",
    "\n",
    "### 🛠️ Proposed Solutions\n",
    "\n",
    "- **Outlier Detection and Filtering**: Use statistical thresholds to filter out unreasonable values (e.g., negative fares or extremely long flights).\n",
    "- **Handling Missing Values**: Apply appropriate methods such as row filtering, median imputation, or interpolation to manage missing entries.\n",
    "- **Quarter-Based Aggregation**: Convert daily oil price data into quarterly averages to match the structure of the airfare dataset.\n"
   ]
  },
  {
   "cell_type": "markdown",
   "id": "8630ef96",
   "metadata": {
    "id": "wGp7NtCZvk4B"
   },
   "source": [
    "### **2.3.1 Flight Data**"
   ]
  },
  {
   "cell_type": "code",
   "execution_count": null,
   "id": "00d74e76",
   "metadata": {
    "colab": {
     "base_uri": "https://localhost:8080/"
    },
    "id": "Q4JX0m7BunXx",
    "outputId": "16001d94-2f3c-4cbe-9211-36b5e405ac87"
   },
   "outputs": [],
   "source": [
    "df_original = pd.read_csv(flights_data, low_memory=False)\n",
    "df_original.info()"
   ]
  },
  {
   "cell_type": "code",
   "execution_count": null,
   "id": "3177e6c1",
   "metadata": {
    "colab": {
     "base_uri": "https://localhost:8080/"
    },
    "id": "YQzrG8QuvwcY",
    "outputId": "fcdaa050-3bac-4de7-ffbf-5e9984c9c813"
   },
   "outputs": [],
   "source": [
    "# Checking Duplicates\n",
    "duplicates = df_original.duplicated().sum()\n",
    "print(f'Duplicates: {duplicates}')"
   ]
  },
  {
   "cell_type": "code",
   "execution_count": null,
   "id": "7c8f2697",
   "metadata": {
    "colab": {
     "base_uri": "https://localhost:8080/",
     "height": 359
    },
    "id": "XkGJWMFRvydi",
    "outputId": "69a52d24-b359-4ca8-e7c8-7f9bf18c83ad"
   },
   "outputs": [],
   "source": [
    "df_original.head()"
   ]
  },
  {
   "cell_type": "code",
   "execution_count": null,
   "id": "0ec59986",
   "metadata": {
    "colab": {
     "base_uri": "https://localhost:8080/",
     "height": 331
    },
    "id": "k6Gay_pdv0ak",
    "outputId": "84e68ca5-eb15-41b2-f25e-a7db0171cf3c"
   },
   "outputs": [],
   "source": [
    "df_original.sample(3)"
   ]
  },
  {
   "cell_type": "code",
   "execution_count": null,
   "id": "1ab6bc7f",
   "metadata": {
    "colab": {
     "base_uri": "https://localhost:8080/",
     "height": 300
    },
    "id": "gSBSLhW9924l",
    "outputId": "1c7ea341-20bd-448e-a244-4629ac8d658b"
   },
   "outputs": [],
   "source": [
    "df_original.describe()"
   ]
  },
  {
   "cell_type": "code",
   "execution_count": null,
   "id": "73cf6e08",
   "metadata": {
    "colab": {
     "base_uri": "https://localhost:8080/"
    },
    "id": "5r21Z9Htv25c",
    "outputId": "815f32ee-64ae-44e4-aa73-aa2ce26de9d8"
   },
   "outputs": [],
   "source": [
    "print(df_original.shape)\n",
    "\n",
    "# Handling Missing Values\n",
    "df_clean = df_original.copy()\n",
    "missing_values = df_clean.isnull().sum()\n",
    "print(\"------MISS VALUES------\")\n",
    "print(missing_values.to_string())\n",
    "df_clean = df_clean.dropna()\n",
    "df_clean = df_clean.dropna(axis=1)\n",
    "df_clean = df_clean.drop_duplicates()\n",
    "\n",
    "print(df_clean.shape)"
   ]
  },
  {
   "cell_type": "code",
   "execution_count": null,
   "id": "1cdc3a9e",
   "metadata": {
    "colab": {
     "base_uri": "https://localhost:8080/",
     "height": 300
    },
    "id": "x60ckRTT9uRM",
    "outputId": "2be694e3-35e2-4089-8c0b-2e668f66d569"
   },
   "outputs": [],
   "source": [
    "df_clean.describe()"
   ]
  },
  {
   "cell_type": "code",
   "execution_count": null,
   "id": "2a6ca34c",
   "metadata": {
    "colab": {
     "base_uri": "https://localhost:8080/",
     "height": 493
    },
    "id": "oTylQ_xS7YxI",
    "outputId": "cfc87426-4dbf-46c7-c33f-0e0f04119031"
   },
   "outputs": [],
   "source": [
    "# Have a look at the distribution of fare, to see if there are outliers\n",
    "plt.figure(figsize=(10, 5))\n",
    "sns.histplot(df_clean['fare'], kde=True, color='#800080', edgecolor='white', linewidth=1.5)\n",
    "plt.title('Distribution of Fare', fontsize=16, fontweight='bold')\n",
    "plt.xlabel('Fare (USD)', fontsize=12)\n",
    "plt.ylabel('Frequency', fontsize=12)\n",
    "plt.grid(axis='y', linestyle='--', alpha=0.7)  # Added gridlines for better readability\n",
    "sns.despine()  # Remove top and right spines for a cleaner look\n",
    "plt.show()"
   ]
  },
  {
   "cell_type": "markdown",
   "id": "09425c37",
   "metadata": {
    "id": "KkHToHR4q7jP"
   },
   "source": [
    "❗ BE CAREFUL: YOU CAN ONLY RUN BELOW ONCE WITHOUT RERUNNING THE CELL ABOVE!"
   ]
  },
  {
   "cell_type": "code",
   "execution_count": null,
   "id": "b865ed51",
   "metadata": {
    "colab": {
     "base_uri": "https://localhost:8080/",
     "height": 349
    },
    "id": "NIepgkHQv5Ps",
    "outputId": "4f6a153c-3a62-4966-ff60-279b7c9e4283"
   },
   "outputs": [],
   "source": [
    "\"\"\"\n",
    "YOU CAN ONLY RUN THIS CELL ONCE!\n",
    "OR YOU NEED TO RERUN THE CELL ABOVE THIS\n",
    "\"\"\"\n",
    "\n",
    "# Calculate Z-scores of each value in the DataFrame\n",
    "z_scores = stats.zscore(df_clean.select_dtypes(include=['float64', 'int64']))\n",
    "\n",
    "# Identify outliers\n",
    "outlier_score = 3\n",
    "df_outliers = df_clean[(z_scores > outlier_score).any(axis=1) | (z_scores < -outlier_score).any(axis=1)]\n",
    "print(df_outliers.shape)\n",
    "\n",
    "# Remove rows with outliers based on Z-score\n",
    "df_clean = df_clean[(z_scores < outlier_score).all(axis=1) & (z_scores > -outlier_score).all(axis=1)]\n",
    "print(df_clean.shape)\n",
    "df_clean.sample(3)"
   ]
  },
  {
   "cell_type": "markdown",
   "id": "1c8621fd",
   "metadata": {
    "id": "zVakNH-Nv8CK"
   },
   "source": [
    "### **2.3.2 Fuel Price Data**"
   ]
  },
  {
   "cell_type": "code",
   "execution_count": null,
   "id": "e30f23ba",
   "metadata": {
    "colab": {
     "base_uri": "https://localhost:8080/"
    },
    "id": "JL7jE8Ovv-Z0",
    "outputId": "3f0b4dbd-9d51-459a-e9ba-b4d7f2291ba3"
   },
   "outputs": [],
   "source": [
    "fuel_df_original = pd.read_csv(fuel_data, low_memory=False)\n",
    "fuel_df_original.info()"
   ]
  },
  {
   "cell_type": "code",
   "execution_count": null,
   "id": "9122fb2b",
   "metadata": {
    "colab": {
     "base_uri": "https://localhost:8080/"
    },
    "id": "x_qt7oAOwAQQ",
    "outputId": "e999e873-aa09-47fe-9569-9bf0ccd9b373"
   },
   "outputs": [],
   "source": [
    "# Checking Duplicates\n",
    "duplicates = fuel_df_original.duplicated().sum()\n",
    "print(f'Duplicates: {duplicates}')"
   ]
  },
  {
   "cell_type": "code",
   "execution_count": null,
   "id": "5bbb45a1",
   "metadata": {
    "colab": {
     "base_uri": "https://localhost:8080/",
     "height": 206
    },
    "id": "dfjmmSIVwD4W",
    "outputId": "7095b3d5-be0d-44c4-cfad-215aba9b37df"
   },
   "outputs": [],
   "source": [
    "fuel_df_original.head()"
   ]
  },
  {
   "cell_type": "code",
   "execution_count": null,
   "id": "f3237c08",
   "metadata": {
    "colab": {
     "base_uri": "https://localhost:8080/",
     "height": 143
    },
    "id": "drT8HvCewGQx",
    "outputId": "b23ee0a6-15f0-4899-ceb5-da725556c602"
   },
   "outputs": [],
   "source": [
    "fuel_df_original.sample(3)"
   ]
  },
  {
   "cell_type": "code",
   "execution_count": null,
   "id": "753ec956",
   "metadata": {
    "colab": {
     "base_uri": "https://localhost:8080/"
    },
    "id": "yna6glJRwIAO",
    "outputId": "0d7342a5-0f16-423a-f73b-f3c7a3bfa2ea"
   },
   "outputs": [],
   "source": [
    "print(fuel_df_original.shape)\n",
    "\n",
    "# Handling Missing Values\n",
    "fuel_df_clean = fuel_df_original.copy()\n",
    "fuel_df_clean = fuel_df_clean.dropna()\n",
    "fuel_df_clean = fuel_df_clean.dropna(axis=1)\n",
    "fuel_df_clean = fuel_df_clean.drop_duplicates()\n",
    "\n",
    "print(fuel_df_clean.shape)"
   ]
  },
  {
   "cell_type": "markdown",
   "id": "9b462bdf",
   "metadata": {
    "id": "nHh1q43awL4Q"
   },
   "source": [
    "Since the fuel price data is very clean, we don't need further cleaning."
   ]
  },
  {
   "cell_type": "markdown",
   "id": "b112b90d",
   "metadata": {
    "id": "Y5sYhL1sPOXf"
   },
   "source": [
    "# **3. Exploratory Data Analysis (EDA)**\n",
    "\n",
    "We primarily focused on visualizing data distributions to have a brief concept of the data ranges, and also the relationships between fare and possible deciding factors (fuel price, distance, passenger count, carrier type, etc) to understand possible correlations."
   ]
  },
  {
   "cell_type": "code",
   "execution_count": null,
   "id": "20da20d1",
   "metadata": {
    "id": "wowSpJOTal1Q"
   },
   "outputs": [],
   "source": [
    "df = df_clean.copy()\n",
    "fuel_df = fuel_df_clean.copy()"
   ]
  },
  {
   "cell_type": "markdown",
   "id": "7e2d51d6",
   "metadata": {
    "id": "leYpapAmisMa"
   },
   "source": [
    "## **3.1 Distribution of Fare, distance and fuel price**"
   ]
  },
  {
   "cell_type": "code",
   "execution_count": null,
   "id": "fab46006",
   "metadata": {
    "colab": {
     "base_uri": "https://localhost:8080/",
     "height": 1000
    },
    "id": "68RGJt1wZkn3",
    "outputId": "0876bef4-52d8-4512-ba2f-71304358d8b0"
   },
   "outputs": [],
   "source": [
    "# Distribution of fare\n",
    "plt.figure(figsize=(10, 5))\n",
    "sns.histplot(df['fare'], kde=True, color='#800080', edgecolor='white', linewidth=1.5)\n",
    "plt.title('Distribution of Fare', fontsize=16, fontweight='bold')\n",
    "plt.xlabel('Fare (USD)', fontsize=12)\n",
    "plt.ylabel('Frequency', fontsize=12)\n",
    "plt.grid(axis='y', linestyle='--', alpha=0.7)  # Added gridlines for better readability\n",
    "sns.despine()  # Remove top and right spines for a cleaner look\n",
    "plt.show()\n",
    "\n",
    "# Distribution of distance\n",
    "plt.figure(figsize=(10, 5))\n",
    "sns.histplot(df['nsmiles'], kde=True, color='#000080', edgecolor='white', linewidth=1.5)\n",
    "plt.title('Distribution of Distance', fontsize=16, fontweight='bold')\n",
    "plt.xlabel('Distance (miles)', fontsize=12)\n",
    "plt.ylabel('Frequency', fontsize=12)\n",
    "plt.grid(axis='y', linestyle='--', alpha=0.7)\n",
    "sns.despine()\n",
    "plt.show()\n",
    "\n",
    "# Distribution of fuel price\n",
    "plt.figure(figsize=(10, 5))\n",
    "sns.histplot(fuel_df['Price'], kde=True, color='#008080', edgecolor='white', linewidth=1.5)\n",
    "plt.title('Distribution of Fuel Price', fontsize=16, fontweight='bold')\n",
    "plt.xlabel('Fuel Price (USD)', fontsize=12)\n",
    "plt.ylabel('Frequency', fontsize=12)\n",
    "plt.grid(axis='y', linestyle='--', alpha=0.7)\n",
    "sns.despine()\n",
    "plt.show()"
   ]
  },
  {
   "cell_type": "markdown",
   "id": "d1f5d784",
   "metadata": {
    "id": "APrhdBydCueS"
   },
   "source": [
    "We can see that:\n",
    "\n",
    "* Airfare centers around 200 USD, while there are extreme values, it's still very symmetrical.\n",
    "\n",
    "* Distance range from about 200 miles to over 2500 miles, with 1500 miles serving as a dividing line. The distribution is fairly uniform both below and above 1,500 miles, but the average frequency in these two segments differs by about a factor of two.\n",
    "\n",
    "* Fuel price ranges greatly over the years."
   ]
  },
  {
   "cell_type": "markdown",
   "id": "be0a2ee4",
   "metadata": {
    "id": "YzF9G62hj7h9"
   },
   "source": [
    "## **3.2 US Flight Fare and Distance**"
   ]
  },
  {
   "cell_type": "code",
   "execution_count": null,
   "id": "993d189a",
   "metadata": {
    "colab": {
     "base_uri": "https://localhost:8080/",
     "height": 507
    },
    "id": "pJ1IOiipbh6N",
    "outputId": "b7dcfb30-4824-4901-9b63-eb18e06b2524"
   },
   "outputs": [],
   "source": [
    "plt.figure(figsize=(10, 5))\n",
    "sns.scatterplot(x='nsmiles', y='fare', data=df, alpha=0.1, color='royalblue', edgecolor='k', s=20)\n",
    "plt.title('Relationship between Fare and Distance', fontsize=14, fontweight='bold')\n",
    "plt.xlabel('Miles', fontsize=14)\n",
    "plt.ylabel('Fare (USD)', fontsize=14)\n",
    "plt.xticks(fontsize=12)\n",
    "plt.yticks(fontsize=12)\n",
    "plt.grid(True, linestyle='--', alpha=0.5)\n",
    "sns.despine()\n",
    "plt.tight_layout()\n",
    "plt.show()"
   ]
  },
  {
   "cell_type": "markdown",
   "id": "f92d5b75",
   "metadata": {
    "id": "en-W7WVVj7Ah"
   },
   "source": [
    "From the plot:\n",
    "\n",
    "* There is an approximately linear relationship between airfare and the distance of the route.\n",
    "\n",
    "* The slope is small and the variance is very large. This aligns with our real-world experience that airfare can vary greatly."
   ]
  },
  {
   "cell_type": "markdown",
   "id": "4607de1f",
   "metadata": {
    "id": "x79vIJRti3Hi"
   },
   "source": [
    "## **3.3 US Flight Fare and Fuel Price over Time**"
   ]
  },
  {
   "cell_type": "code",
   "execution_count": null,
   "id": "1d9dbbec",
   "metadata": {
    "colab": {
     "base_uri": "https://localhost:8080/",
     "height": 607
    },
    "id": "MGftT6wGcXT8",
    "outputId": "886b750e-7390-4e8c-e6dd-ca62cf219638"
   },
   "outputs": [],
   "source": [
    "fuel_df['Date'] = pd.to_datetime(fuel_df['Date'])\n",
    "fuel_df['Year'] = fuel_df['Date'].dt.year\n",
    "avg_fuel_price_per_year = fuel_df.groupby('Year')['Price'].mean().reset_index()\n",
    "avg_fare_per_year = df.groupby('Year')['fare'].mean().reset_index()\n",
    "\n",
    "# Find common years between fare and fuel data\n",
    "common_years = list(set(avg_fare_per_year['Year']) & set(avg_fuel_price_per_year['Year']))\n",
    "\n",
    "# Filter data for common years\n",
    "avg_fare_per_year = avg_fare_per_year[avg_fare_per_year['Year'].isin(common_years)]\n",
    "avg_fuel_price_per_year = avg_fuel_price_per_year[avg_fuel_price_per_year['Year'].isin(common_years)]\n",
    "\n",
    "fig, ax1 = plt.subplots(figsize=(12, 6))\n",
    "\n",
    "# Avr fare (ax1)\n",
    "sns.lineplot(x='Year', y='fare', data=avg_fare_per_year, marker='o', color='blue', ax=ax1, label='Average Fare')\n",
    "ax1.set_xlabel('Year', fontsize=12)\n",
    "ax1.set_ylabel('Average Fare (USD)', color='blue', fontsize=12)\n",
    "ax1.tick_params(axis='y', labelcolor='blue')\n",
    "ax1.grid(True, linestyle='--', alpha=0.7)\n",
    "\n",
    "# Avr fuel price (ax2)\n",
    "ax2 = ax1.twinx()\n",
    "sns.lineplot(x='Year', y='Price', data=avg_fuel_price_per_year, marker='s', color='red', ax=ax2, label='Average Fuel Price')\n",
    "ax2.set_ylabel('Average Fuel Price (USD)', color='red', fontsize=12)\n",
    "ax2.tick_params(axis='y', labelcolor='red')\n",
    "\n",
    "\n",
    "ax2.spines['right'].set_visible(True)\n",
    "ax2.spines['right'].set_color('red')\n",
    "plt.title('Average Fare and Fuel Price Over Time (by Year)', fontsize=14, fontweight='bold')\n",
    "fig.legend(loc=\"upper left\", bbox_to_anchor=(0.1, 0.95))\n",
    "sns.despine()\n",
    "plt.tight_layout()\n",
    "\n",
    "plt.show()"
   ]
  },
  {
   "cell_type": "markdown",
   "id": "f4aa748a",
   "metadata": {
    "id": "vkVwlghGjBNR"
   },
   "source": [
    "From the plot:\n",
    "\n",
    "* We can see some correlation between flight ticket fare and fuel price, but averging by year is somewhat rough.\n",
    "\n",
    "* Below we also plot base on quarterly average, and we can see that the fluctuations of the two are more obvious."
   ]
  },
  {
   "cell_type": "code",
   "execution_count": null,
   "id": "8cfd920b",
   "metadata": {
    "colab": {
     "base_uri": "https://localhost:8080/",
     "height": 607
    },
    "id": "ElKesnDRfVN-",
    "outputId": "8d894957-88ae-435e-ff27-cd4959d0ad76"
   },
   "outputs": [],
   "source": [
    "fuel_df['Date'] = pd.to_datetime(fuel_df['Date'])\n",
    "fuel_df['Year'] = fuel_df['Date'].dt.year\n",
    "fuel_df['Quarter'] = fuel_df['Date'].dt.quarter\n",
    "avg_fuel_price_per_quarter = fuel_df.groupby(['Year', 'Quarter'])['Price'].mean().reset_index()\n",
    "\n",
    "avg_fare_per_quarter = df.groupby(['Year', 'quarter'])['fare'].mean().reset_index()\n",
    "avg_fare_per_quarter = avg_fare_per_quarter.rename(columns={'quarter': 'Quarter'})\n",
    "\n",
    "# Merge and filter data for common quarters\n",
    "merged_df = pd.merge(avg_fare_per_quarter, avg_fuel_price_per_quarter, on=['Year', 'Quarter'], how='inner')\n",
    "merged_df['Year-Quarter'] = merged_df['Year'].astype(str) + '-Q' + merged_df['Quarter'].astype(str)\n",
    "\n",
    "fig, ax1 = plt.subplots(figsize=(15, 6))\n",
    "\n",
    "# Avr flight fare (ax1)\n",
    "sns.lineplot(x='Year-Quarter', y='fare', data=merged_df, marker='o', color='blue', ax=ax1, label='Average Fare')\n",
    "ax1.set_xlabel('Year-Quarter', fontsize=12)\n",
    "ax1.set_ylabel('Average Fare (USD)', color='blue', fontsize=12)\n",
    "ax1.tick_params(axis='y', labelcolor='blue')\n",
    "ax1.grid(True, linestyle='--', alpha=0.7)\n",
    "\n",
    "# Avr fuel price (ax2)\n",
    "ax2 = ax1.twinx()\n",
    "sns.lineplot(x='Year-Quarter', y='Price', data=merged_df, marker='s', color='red', ax=ax2, label='Average Fuel Price')\n",
    "ax2.set_ylabel('Average Fuel Price (USD)', color='red', fontsize=12)\n",
    "ax2.tick_params(axis='y', labelcolor='red')\n",
    "\n",
    "# Add solid line to the right spine of ax2\n",
    "ax2.spines['right'].set_visible(True)\n",
    "ax2.spines['right'].set_color('red')\n",
    "\n",
    "plt.title('Average Quarterly Fare and Fuel Price Over Time (by Season)', fontsize=14, fontweight='bold')\n",
    "fig.legend(loc=\"upper left\", bbox_to_anchor=(0.1, 0.95))\n",
    "\n",
    "plt.xticks(rotation=45)\n",
    "ax1.xaxis.set_major_locator(plt.MaxNLocator(15)) # Maximum num of x labels\n",
    "\n",
    "# Improve aesthetics\n",
    "sns.despine()\n",
    "plt.tight_layout()\n",
    "plt.xticks(rotation=45)\n",
    "\n",
    "plt.show()"
   ]
  },
  {
   "cell_type": "markdown",
   "id": "c9eae630",
   "metadata": {
    "id": "2bBR1lojlAD_"
   },
   "source": [
    "## **3.4 US Flight Fare and Passenger Count**"
   ]
  },
  {
   "cell_type": "code",
   "execution_count": null,
   "id": "5fd87d9a",
   "metadata": {
    "colab": {
     "base_uri": "https://localhost:8080/",
     "height": 607
    },
    "id": "E4ua0_CnjfDZ",
    "outputId": "7c278fbe-61e4-4a28-ce43-9170cf2a0a49"
   },
   "outputs": [],
   "source": [
    "avg_passengers_per_quarter = df.groupby(['Year', 'quarter'])['passengers'].mean().reset_index()\n",
    "avg_fare_per_quarter = df.groupby(['Year', 'quarter'])['fare'].mean().reset_index()\n",
    "\n",
    "avg_passengers_per_quarter = avg_passengers_per_quarter.rename(columns={'quarter': 'Quarter'})\n",
    "avg_fare_per_quarter = avg_fare_per_quarter.rename(columns={'quarter': 'Quarter'})\n",
    "\n",
    "merged_df = pd.merge(avg_passengers_per_quarter, avg_fare_per_quarter, on=['Year', 'Quarter'], how='inner')\n",
    "merged_df['Year-Quarter'] = merged_df['Year'].astype(str) + '-Q' + merged_df['Quarter'].astype(str)\n",
    "\n",
    "\n",
    "fig, ax1 = plt.subplots(figsize=(15, 6))\n",
    "sns.lineplot(x='Year-Quarter', y='fare', data=merged_df, marker='s', color='blue', ax=ax1, label='Average Fare')\n",
    "ax1.set_ylabel('Average Fare (USD)', color='blue', fontsize=12)\n",
    "ax1.tick_params(axis='y', labelcolor='blue')\n",
    "\n",
    "ax2 = ax1.twinx()\n",
    "sns.lineplot(x='Year-Quarter', y='passengers', data=merged_df, marker='o', color='red', ax=ax2, label='Average Passengers')\n",
    "ax2.set_xlabel('Year-Quarter', fontsize=12)\n",
    "ax2.set_ylabel('Average Passengers', color='red', fontsize=12)\n",
    "ax2.tick_params(axis='y', labelcolor='red')\n",
    "ax2.grid(True, linestyle='--', alpha=0.7)\n",
    "\n",
    "ax2.spines['right'].set_visible(True)\n",
    "ax2.spines['right'].set_color('red')\n",
    "\n",
    "plt.title('Average Quarterly Passengers and Fare Over Time', fontsize=14, fontweight='bold')\n",
    "fig.legend(loc=\"upper left\", bbox_to_anchor=(0.1, 0.95))\n",
    "plt.xticks(rotation=45)\n",
    "ax1.xaxis.set_major_locator(plt.MaxNLocator(15))\n",
    "sns.despine()\n",
    "plt.tight_layout()\n",
    "\n",
    "plt.show()"
   ]
  },
  {
   "cell_type": "markdown",
   "id": "1798147a",
   "metadata": {
    "id": "gXB4_i0itfnC"
   },
   "source": [
    "From the plot:\n",
    "\n",
    "* Looks like there isn't a strong correlation between flight fare and passenger counts."
   ]
  },
  {
   "cell_type": "code",
   "execution_count": null,
   "id": "4cf76e06",
   "metadata": {
    "colab": {
     "base_uri": "https://localhost:8080/",
     "height": 507
    },
    "id": "uiUyfBskdQua",
    "outputId": "ac0ce462-5f1f-4b05-ca98-f420271166c1"
   },
   "outputs": [],
   "source": [
    "plt.figure(figsize=(10, 5))\n",
    "sns.scatterplot(x='passengers', y='fare', data=df, alpha=0.1, color='royalblue', edgecolor='k', s=20)\n",
    "plt.title('Relationship between Fare (not averaged) and Passenger Count', fontsize=14, fontweight='bold')\n",
    "plt.xlabel('Passenger Count', fontsize=12)\n",
    "plt.ylabel('Fare (USD)', fontsize=12)\n",
    "plt.xticks(fontsize=10)\n",
    "plt.yticks(fontsize=10)\n",
    "plt.grid(True, linestyle='--', alpha=0.5)\n",
    "sns.despine()\n",
    "plt.tight_layout()\n",
    "plt.show()"
   ]
  },
  {
   "cell_type": "markdown",
   "id": "4f55409a",
   "metadata": {
    "id": "6qmdKT3itSg3"
   },
   "source": [
    "From the plot:\n",
    "\n",
    "* We can see that the fares are more stable when there is a high passenger volume on a route."
   ]
  },
  {
   "cell_type": "markdown",
   "id": "24f3d1d2",
   "metadata": {
    "id": "MAQPIMV4nf2x"
   },
   "source": [
    "## **3.5 US Flight Fare and Carrier Type for Same Routes**"
   ]
  },
  {
   "cell_type": "code",
   "execution_count": null,
   "id": "a62ad258",
   "metadata": {
    "colab": {
     "base_uri": "https://localhost:8080/",
     "height": 607
    },
    "id": "kMDFgwLJpFje",
    "outputId": "65f69d47-4902-43bc-c79e-cf1be5642ff7"
   },
   "outputs": [],
   "source": [
    "plt.figure(figsize=(6, 6))\n",
    "sns.scatterplot(x='fare_low', y='fare_lg', data=df, alpha=0.1, color='royalblue', edgecolor='k', s=20)\n",
    "plt.title('Large and Low Carrier Fares for the Same Routes', fontsize=14, fontweight='bold')\n",
    "plt.xlabel('Fare of Low Carrier (USD)', fontsize=14)\n",
    "plt.ylabel('Fare of Large Carrier (USD)', fontsize=14)\n",
    "plt.xticks(fontsize=12)\n",
    "plt.yticks(fontsize=12)\n",
    "plt.grid(True, linestyle='--', alpha=0.5)\n",
    "sns.despine()\n",
    "plt.tight_layout()\n",
    "plt.show()"
   ]
  },
  {
   "cell_type": "markdown",
   "id": "41babe5e",
   "metadata": {
    "id": "ZLd45160veX7"
   },
   "source": [
    "From this plot:\n",
    "\n",
    "* We can roughly see that for air tickets between about 100-300 USD, the fares of different carriers vary greatly.\n",
    "\n",
    "* The differences become much smaller after 300 USD."
   ]
  },
  {
   "cell_type": "markdown",
   "id": "a5412fde",
   "metadata": {
    "id": "o7gwA30V8GP1"
   },
   "source": [
    "## **3.6 Top 10 Busiest Cities (Dept/Dest)**"
   ]
  },
  {
   "cell_type": "code",
   "execution_count": null,
   "id": "f7064dc0",
   "metadata": {
    "colab": {
     "base_uri": "https://localhost:8080/",
     "height": 894
    },
    "id": "o8VRcXEx8a3D",
    "outputId": "3a1db85f-770e-454a-b76d-8fbde493b1f6"
   },
   "outputs": [],
   "source": [
    "## Top 10 Busiest US Cities by Departing Traffic (1993-2024)\n",
    "\n",
    "plt.figure(figsize=(12, 8))\n",
    "top_cities = df.groupby('city1')['passengers'].sum().nlargest(10).reset_index()\n",
    "\n",
    "sns.barplot(x='passengers', y='city1', data=top_cities,\n",
    "            palette=\"viridis\",  # Use a color palette\n",
    "            edgecolor=\"black\",  # Add black border to bars\n",
    "            linewidth=1)  # Set border line width\n",
    "\n",
    "plt.title('Top 10 Busiest US Cities by Departing Traffic (1993-2024)',\n",
    "          fontsize=16, fontweight='bold')\n",
    "plt.xlabel('Total Passengers (in Millions)', fontsize=14)\n",
    "plt.ylabel('Origin City', fontsize=14)\n",
    "plt.xticks(fontsize=12)\n",
    "plt.yticks(fontsize=12)\n",
    "plt.grid(axis='x', linestyle='--', alpha=0.7)\n",
    "sns.despine()\n",
    "plt.tight_layout()\n",
    "plt.show()"
   ]
  },
  {
   "cell_type": "code",
   "execution_count": null,
   "id": "c697753e",
   "metadata": {
    "colab": {
     "base_uri": "https://localhost:8080/",
     "height": 894
    },
    "id": "5ywNxmYe-99W",
    "outputId": "6069f814-3563-4391-fa5c-fa4eb3bf38b5"
   },
   "outputs": [],
   "source": [
    "## Top 10 Busiest US Cities by Arriving Traffic (1993-2024)\n",
    "\n",
    "plt.figure(figsize=(12, 8))\n",
    "top_cities = df.groupby('city2')['passengers'].sum().nlargest(10).reset_index()\n",
    "\n",
    "sns.barplot(x='passengers', y='city2', data=top_cities,\n",
    "            palette=\"viridis\",\n",
    "            edgecolor=\"black\",\n",
    "            linewidth=1)\n",
    "\n",
    "plt.title('Top 10 Busiest US Cities by Arriving Traffic (1993-2024)',\n",
    "          fontsize=16, fontweight='bold')\n",
    "plt.xlabel('Total Passengers (in Millions)', fontsize=14)\n",
    "plt.ylabel('Origin City', fontsize=14)\n",
    "plt.xticks(fontsize=12)\n",
    "plt.yticks(fontsize=12)\n",
    "plt.grid(axis='x', linestyle='--', alpha=0.7)\n",
    "sns.despine()\n",
    "plt.tight_layout()\n",
    "plt.show()"
   ]
  },
  {
   "cell_type": "code",
   "execution_count": null,
   "id": "83ebe88b",
   "metadata": {
    "colab": {
     "base_uri": "https://localhost:8080/",
     "height": 894
    },
    "id": "GYg5TZvn_oSG",
    "outputId": "75a0ce1e-f9b5-451c-ec72-437004624846"
   },
   "outputs": [],
   "source": [
    "## Top 10 Busiest US Cities by Total Passenger Traffic (1993-2024)\n",
    "\n",
    "city_passengers = pd.concat([df.groupby('city1')['passengers'].sum(),\n",
    "                             df.groupby('city2')['passengers'].sum()]) \\\n",
    "                   .groupby(level=0).sum() \\\n",
    "                   .sort_values(ascending=False) \\\n",
    "                   .reset_index()\n",
    "\n",
    "top_cities = city_passengers.head(10)\n",
    "\n",
    "plt.figure(figsize=(12, 8))\n",
    "sns.barplot(x='passengers', y='index', data=top_cities,\n",
    "            palette=\"viridis\", edgecolor=\"black\", linewidth=1)\n",
    "\n",
    "plt.title('Top 10 Busiest US Cities by Total Passenger Traffic (1993-2024)',\n",
    "          fontsize=16, fontweight='bold')\n",
    "plt.xlabel('Total Passengers (in Millions)', fontsize=14)\n",
    "plt.ylabel('City', fontsize=14)\n",
    "plt.xticks(fontsize=12)\n",
    "plt.yticks(fontsize=12)\n",
    "plt.grid(axis='x', linestyle='--', alpha=0.7)\n",
    "sns.despine()\n",
    "plt.tight_layout()\n",
    "plt.show()"
   ]
  },
  {
   "cell_type": "markdown",
   "id": "49fae0b1",
   "metadata": {
    "id": "ziX7vi5G_OMF"
   },
   "source": [
    "## **3.7 Correlation Analysis**"
   ]
  },
  {
   "cell_type": "code",
   "execution_count": null,
   "id": "7bb4d552",
   "metadata": {
    "id": "MV5aRPg7A7ot"
   },
   "outputs": [],
   "source": [
    "def get_numerical_cols(dataframe, cat_th=10, car_th=20):\n",
    "    cat_cols = [col for col in dataframe.columns if dataframe[col].dtypes in ['object' , 'category' , 'bool']]\n",
    "    num_but_cat = [col for col in dataframe.columns if dataframe[col].nunique() < cat_th and dataframe[col].dtypes in [\"int64\", \"float64\"]]\n",
    "    cat_but_car = [col for col in dataframe.columns if dataframe[col].nunique() > car_th and str(dataframe[col].dtypes) in [\"category\", \"object\"]]\n",
    "    cat_cols = cat_cols + num_but_cat\n",
    "    cat_cols = [col for col in cat_cols if col not in cat_but_car]\n",
    "\n",
    "    num_cols = [col for col in dataframe.columns if dataframe[col].dtypes in [\"int64\", \"float64\"]]\n",
    "    num_cols = [col for col in num_cols if col not in cat_cols]\n",
    "    return num_cols\n",
    "\n",
    "\n",
    "num_cols = get_numerical_cols(df)"
   ]
  },
  {
   "cell_type": "code",
   "execution_count": null,
   "id": "2db2790f",
   "metadata": {
    "colab": {
     "base_uri": "https://localhost:8080/",
     "height": 1000
    },
    "id": "YzPluCE__XxV",
    "outputId": "54f54aff-c2a5-4577-bb30-56dadceab998"
   },
   "outputs": [],
   "source": [
    "col_list_for_corr = num_cols + [\"quarter\"]\n",
    "\n",
    "corr_matrix = df[col_list_for_corr].corr(numeric_only=True)\n",
    "\n",
    "# Create a mask for the upper triangle\n",
    "mask = np.triu(np.ones_like(corr_matrix, dtype=bool))\n",
    "\n",
    "fig, ax = plt.subplots(figsize=(12, 10))\n",
    "\n",
    "# Generate a custom diverging colormap\n",
    "cmap = sns.diverging_palette(230, 20, as_cmap=True)\n",
    "\n",
    "# Draw the heatmap with the mask and correct aspect ratio\n",
    "sns.heatmap(corr_matrix, mask=mask, cmap=cmap, vmin=-1, vmax=1, center=0,\n",
    "            square=True, linewidths=.5, cbar_kws={\"shrink\": .5}, annot=True, fmt=\".2f\", annot_kws={\"size\": 10})\n",
    "\n",
    "plt.title('Correlation Matrix of Flight Fare Data', fontsize=16, fontweight='bold')\n",
    "plt.xticks(fontsize=12, rotation=45, ha='right')\n",
    "plt.yticks(fontsize=12)\n",
    "ax.tick_params(axis='both', which='major', pad=10)\n",
    "plt.tight_layout()\n",
    "plt.show()"
   ]
  },
  {
   "cell_type": "code",
   "execution_count": null,
   "id": "d8f51b77",
   "metadata": {
    "colab": {
     "base_uri": "https://localhost:8080/"
    },
    "id": "UIAlpNQ1F_UC",
    "outputId": "78f65f49-075d-4e33-a5d7-c33e9a293a85"
   },
   "outputs": [],
   "source": [
    "# Additionally, calculate the correlation between airfare and fuel price\n",
    "\n",
    "fuel_df['Date'] = pd.to_datetime(fuel_df['Date'])\n",
    "fuel_df['Year'] = fuel_df['Date'].dt.year\n",
    "fuel_df['Quarter'] = fuel_df['Date'].dt.quarter\n",
    "avg_fuel_price_per_quarter = fuel_df.groupby(['Year', 'Quarter'])['Price'].mean().reset_index()\n",
    "\n",
    "avg_fare_per_quarter = df.groupby(['Year', 'quarter'])['fare'].mean().reset_index()\n",
    "avg_fare_per_quarter = avg_fare_per_quarter.rename(columns={'quarter': 'Quarter'})\n",
    "\n",
    "# Merge and filter data for common quarters\n",
    "merged_df = pd.merge(avg_fare_per_quarter, avg_fuel_price_per_quarter, on=['Year', 'Quarter'], how='inner')\n",
    "merged_df['Year-Quarter'] = merged_df['Year'].astype(str) + '-Q' + merged_df['Quarter'].astype(str)\n",
    "\n",
    "correlation_fuel_fare = merged_df['fare'].corr(merged_df['Price'])\n",
    "print(f\"Correlation between airfare and fuel price (quarterly average): {correlation_fuel_fare:.2f}\")"
   ]
  },
  {
   "cell_type": "markdown",
   "id": "7b635988",
   "metadata": {
    "id": "kBidjjoGcbVd"
   },
   "source": []
  },
  {
   "cell_type": "markdown",
   "id": "76142e62",
   "metadata": {
    "id": "zPvL9JJoDbEU"
   },
   "source": [
    "From the correlation analysis above, we can see that airfare does have some correlation with existing numerical features. Higher fuel price, longer distance, and less passengers tend to lead to higher fare price. Large carriers tend to dominate the market and affect the airfare the most, low-fare carriers can have less market share and more flexible pricing policy and thus lead to a weaker correlation."
   ]
  },
  {
   "cell_type": "markdown",
   "id": "a809c197",
   "metadata": {
    "id": "JdMZeusZXyrZ"
   },
   "source": [
    "# **4. Feature Engineering**\n",
    "\n",
    "To improve model performance and enhance feature interpretability, we applied the following feature engineering steps:\n",
    "\n",
    "- **Categorical Encoding**: We identified `quarter`, `citymarketid_1`, and `citymarketid_2` as categorical variables, despite being numeric in appearance. These, along with other nominal features such as `city1`, `airport_1`, and `carrier_lg`, were one-hot encoded to convert them into a format suitable for machine learning models.\n",
    "- **Target Variable**: We selected `fare` as the prediction target, representing the average airfare for each route.\n",
    "- **Train-Test Split**: The dataset was split into 80% for training and 20% for testing, ensuring unbiased model evaluation.\n",
    "- **Feature Scaling**: Continuous numerical features were standardized using `StandardScaler` to ensure they are on the same scale, which benefits many machine learning algorithms.\n",
    "- **Dimensionality Reduction**: PCA was applied to retain 95% of the variance while reducing the dimensionality of the feature space, helping to speed up model training and reduce the risk of overfitting.\n",
    "\n",
    "This structured pipeline ensures that each feature is treated appropriately according to its type, resulting in a clean and model-ready dataset.\n"
   ]
  },
  {
   "cell_type": "code",
   "execution_count": null,
   "id": "0ab09cb7",
   "metadata": {
    "colab": {
     "base_uri": "https://localhost:8080/"
    },
    "id": "NFj01pcTZWPG",
    "outputId": "3ccd02aa-3431-4530-feec-8682034e115e"
   },
   "outputs": [],
   "source": [
    "df_feature = df_clean.copy()\n",
    "print(df_feature.columns.tolist())"
   ]
  },
  {
   "cell_type": "code",
   "execution_count": null,
   "id": "b10786be",
   "metadata": {
    "colab": {
     "base_uri": "https://localhost:8080/"
    },
    "id": "LdhcO2o-Xxhq",
    "lines_to_next_cell": 2,
    "outputId": "cbce7914-d843-46a8-e1c5-049e3805ec8c"
   },
   "outputs": [],
   "source": [
    "### Revised Feature Engineering (Based on Feature Type Analysis)\n",
    "\n",
    "# Step 1: Copy the cleaned dataset\n",
    "df_feature = df_clean.copy()\n",
    "\n",
    "# Step 2: Identify categorical features\n",
    "categorical_cols = [\n",
    "    'quarter',\n",
    "    'citymarketid_1',\n",
    "    'citymarketid_2',\n",
    "    'city1', 'city2',\n",
    "    'airport_1', 'airport_2',\n",
    "    'carrier_lg', 'carrier_low',\n",
    "    'Geocoded_City1', 'Geocoded_City2'\n",
    "]\n",
    "\n",
    "\n",
    "categorical_cols = [col for col in categorical_cols if col in df_feature.columns]\n",
    "\n",
    "# Apply One-Hot Encoding to categorical columns\n",
    "df_feature = pd.get_dummies(df_feature, columns=categorical_cols, drop_first=True)\n",
    "\n",
    "# Step 3: Define target variable\n",
    "target_col = 'fare'\n",
    "X = df_feature.drop(columns=[target_col])\n",
    "y = df_feature[target_col]\n",
    "\n",
    "# Step 4: Train-Test Split\n",
    "from sklearn.model_selection import train_test_split\n",
    "X_train, X_test, y_train, y_test = train_test_split(X, y, test_size=0.2, random_state=42)\n",
    "\n",
    "# Step 5: Standardize only numeric columns\n",
    "from sklearn.preprocessing import StandardScaler\n",
    "\n",
    "# Select only numeric columns for scaling\n",
    "numeric_cols = X_train.select_dtypes(include=['number']).columns\n",
    "scaler = StandardScaler()\n",
    "X_train_scaled = scaler.fit_transform(X_train[numeric_cols])\n",
    "X_test_scaled = scaler.transform(X_test[numeric_cols])\n",
    "\n",
    "# Step 6: Optional - PCA to reduce dimensionality\n",
    "from sklearn.decomposition import PCA\n",
    "pca = PCA(n_components=0.95)  # Retain 95% variance\n",
    "X_train_pca = pca.fit_transform(X_train_scaled)\n",
    "X_test_pca = pca.transform(X_test_scaled)\n",
    "\n",
    "print(f\"Original number of numeric features: {X_train.shape[1]}\")\n",
    "print(f\"After PCA: {X_train_pca.shape[1]}\")"
   ]
  },
  {
   "cell_type": "code",
   "execution_count": null,
   "id": "6f9d602f",
   "metadata": {
    "colab": {
     "base_uri": "https://localhost:8080/",
     "height": 782
    },
    "id": "IyQeiLCGa4T-",
    "lines_to_next_cell": 2,
    "outputId": "5e414154-b1e9-48b4-f4dd-50fb75e8e916"
   },
   "outputs": [],
   "source": [
    "import matplotlib.pyplot as plt\n",
    "import seaborn as sns\n",
    "\n",
    "# Select a few numeric features to visualize (to keep the plot clean)\n",
    "selected_cols = numeric_cols[:4]  # Adjust the number as needed\n",
    "\n",
    "# Create subplots: 2 rows (before/after), N columns (features)\n",
    "fig, axes = plt.subplots(2, len(selected_cols), figsize=(16, 8))\n",
    "fig.suptitle('Distribution Before vs After Standardization', fontsize=16)\n",
    "\n",
    "for i, col in enumerate(selected_cols):\n",
    "    # Plot original feature distribution (row 0)\n",
    "    sns.histplot(X_train[col], bins=30, kde=True, ax=axes[0, i], color='skyblue')\n",
    "    axes[0, i].set_title(f'Original: {col}')\n",
    "\n",
    "    # Plot standardized feature distribution (row 1)\n",
    "    col_index = list(numeric_cols).index(col)\n",
    "    sns.histplot(X_train_scaled[:, col_index], bins=30, kde=True, ax=axes[1, i], color='salmon')\n",
    "    axes[1, i].set_title(f'Scaled: {col}')\n",
    "\n",
    "# Adjust spacing\n",
    "plt.tight_layout(rect=[0, 0.03, 1, 0.95])\n",
    "plt.show()"
   ]
  },
  {
   "cell_type": "markdown",
   "id": "3dea8378",
   "metadata": {
    "id": "zmFr69RLcDcZ"
   },
   "source": [
    "### Feature Engineering Summary\n",
    "\n",
    "- We treated the following as **categorical variables** and applied One-Hot Encoding: `quarter`, `citymarketid_1`, `citymarketid_2`, and all text-based features such as city names, airports, and carriers.\n",
    "- Continuous numerical variables such as `Year`, `nsmiles`, `passengers`, etc. were retained and **standardized using StandardScaler**.\n",
    "- The dataset was then split into training and testing subsets (80/20).\n",
    "- Finally, **Principal Component Analysis (PCA)** was applied to reduce dimensionality while preserving 95% of the data variance.\n",
    "\n",
    "This setup ensures that all variables are in a format suitable for downstream modeling and that feature types are handled appropriately.\n"
   ]
  },
  {
   "cell_type": "markdown",
   "id": "e9f4ef57",
   "metadata": {
    "id": "5yC4K0JjPUh7"
   },
   "source": [
    "# **4. Modeling**"
   ]
  },
  {
   "cell_type": "markdown",
   "id": "a0cbe083",
   "metadata": {
    "id": "eaXORtn8jVCi"
   },
   "source": [
    "## **4.1 Baseline model**"
   ]
  },
  {
   "cell_type": "markdown",
   "id": "3c887c07",
   "metadata": {
    "id": "woxQvWf8jmcK"
   },
   "source": [
    "Originally, we utilize the linear regression as the baseline model. This regression model takes the distance ( <i>nmiles</i> ), time ( <i>Year</i>, <i>Quarter</i> ) and fuel price into consideration, and the target of prediction is exactly the average price of the given flights."
   ]
  },
  {
   "cell_type": "code",
   "execution_count": null,
   "id": "f73239e1",
   "metadata": {
    "id": "VNz8-EUmPf7o"
   },
   "outputs": [],
   "source": [
    "import numpy as np\n",
    "import matplotlib.pyplot as plt\n",
    "import plotly.graph_objects as go\n",
    "\n",
    "from sklearn.model_selection import train_test_split, GridSearchCV, cross_val_score\n",
    "from sklearn.pipeline import Pipeline\n",
    "from sklearn.preprocessing import OneHotEncoder, StandardScaler\n",
    "from sklearn.compose import ColumnTransformer\n",
    "from sklearn.linear_model import Ridge, Lasso\n",
    "from sklearn.linear_model import LinearRegression\n",
    "from sklearn.metrics import mean_squared_error, r2_score\n",
    "from sklearn.base import TransformerMixin, BaseEstimator"
   ]
  },
  {
   "cell_type": "code",
   "execution_count": null,
   "id": "50100460",
   "metadata": {
    "id": "XgVx7jcRP4Vz"
   },
   "outputs": [],
   "source": [
    "df = df_clean.copy()\n",
    "# df['quaters'] = df['quarter'].astype(int) + (df['Year'].astype(int) - 2000) * 4\n",
    "# add the oil price to df\n",
    "new_df = df[['fare', 'nsmiles', 'quarter', 'Year']].dropna()\n",
    "fuel_df = fuel_df_clean.copy()\n",
    "fuel_df_year_quarter = fuel_df.copy()\n",
    "fuel_df_year_quarter['Year'] = fuel_df_year_quarter['Date'].str[:4].astype(int)\n",
    "fuel_df_year_quarter['Quarter'] = fuel_df_year_quarter['Date'].str[5:7].astype(int)\n",
    "fuel_df_year_quarter['Quarter'] = (fuel_df_year_quarter['Quarter'] - 1) // 3 + 1\n",
    "fuel_df_year_quarter = fuel_df_year_quarter.drop('Date', axis=1)\n",
    "# find the mean oil price for the quarter\n",
    "fuel_df_year_quarter = fuel_df_year_quarter.groupby(['Year', 'Quarter']).mean().reset_index()\n",
    "\n",
    "new_df = pd.merge(new_df, fuel_df_year_quarter, left_on=['Year', 'quarter'], right_on=['Year', 'Quarter'], how='left')\n",
    "new_df = new_df.drop(['Quarter'], axis=1)\n",
    "\n",
    "numerical_features = ['Year', 'Price', 'nsmiles']\n",
    "categorical_features = ['quarter']\n",
    "\n",
    "preprocessor = ColumnTransformer(\n",
    "    transformers=[\n",
    "        (\"num\", StandardScaler(), numerical_features),\n",
    "        (\"cat\", OneHotEncoder(drop='first'), categorical_features)\n",
    "    ]\n",
    ")\n",
    "\n",
    "X = new_df[['nsmiles', 'quarter', 'Year', 'Price']]\n",
    "y = new_df['fare']\n",
    "\n",
    "X_train, X_test, y_train, y_test = train_test_split(\n",
    "    X, y, test_size=0.2, random_state=42\n",
    ")\n",
    "\n"
   ]
  },
  {
   "cell_type": "code",
   "execution_count": null,
   "id": "6cfdf14d",
   "metadata": {
    "colab": {
     "base_uri": "https://localhost:8080/",
     "height": 888
    },
    "id": "9Tx9I_pTP8ye",
    "outputId": "7a303d67-a844-4c1e-ad46-8c7f8eafc4f5"
   },
   "outputs": [],
   "source": [
    "pipe = Pipeline([\n",
    "    (\"pre\", preprocessor),\n",
    "    (\"model\", LinearRegression())\n",
    "])\n",
    "\n",
    "pipe.fit(X_train, y_train)\n",
    "print(f\"R^2 socre: {pipe.score(X_test, y_test)}\")\n",
    "print(f\"MSE socre: {mean_squared_error(y_test, pipe.predict(X_test))}\")\n",
    "print(f\"model intercept: {pipe.named_steps['model'].intercept_}\")\n",
    "print(f\"model coefficients: {pipe.named_steps['model'].coef_}\")\n",
    "\n",
    "def plot_prediction(model, X_test, y_test):\n",
    "    y_test_pred = model.predict(X_test)\n",
    "    # use plotly to plot y_train_pred and y_test_pred vs y_train and y_test\n",
    "    fig = go.Figure()\n",
    "    # control figure size\n",
    "    fig.update_layout(width=800, height=800)\n",
    "    fig.add_trace(go.Scatter(x=y_test, y=y_test_pred, mode='markers', name='test'))\n",
    "    min_val = min(y_test.min(), y_test_pred.min())\n",
    "    max_val = max(y_test.max(), y_test_pred.max())\n",
    "    fig.update_xaxes(range=[.75 * min_val, 1.25 * max_val])\n",
    "    fig.update_yaxes(range=[.75 * min_val, 1.25 * max_val])\n",
    "    # add title and axis labels\n",
    "    fig.update_layout(title='Prediction vs Actual',\n",
    "                    xaxis_title='Actual',\n",
    "                    yaxis_title='Prediction')\n",
    "    fig.add_trace(go.Scatter(\n",
    "                    x=[min_val, max_val],\n",
    "                    y=[min_val, max_val],\n",
    "                    mode='lines',\n",
    "                    name='Ideal (y = x)',\n",
    "                    line=dict(color='red', dash='dash')\n",
    "    ))\n",
    "    fig.show()\n",
    "    return\n",
    "\n",
    "\n",
    "\n",
    "# sample some points from X_test and y_test\n",
    "X_test_sample = X_test.sample(100)\n",
    "y_test_sample = y_test.loc[X_test_sample.index]\n",
    "# plot the prediction\n",
    "plot_prediction(pipe, X_test_sample, y_test_sample)\n",
    "\n"
   ]
  },
  {
   "cell_type": "markdown",
   "id": "498fb511",
   "metadata": {
    "id": "C9WJo0Vu5ZOp"
   },
   "source": [
    "The performance for the baseline model is not quite good, which shows that merely linear relationship can hardly justify the fare price given the parameters. We will try to optimize it via adding some new features and employing more advanced models."
   ]
  },
  {
   "cell_type": "markdown",
   "id": "8a40dc2d",
   "metadata": {
    "id": "qIKu47-FsC1B"
   },
   "source": [
    "## **4.2 Ridge Regression**"
   ]
  },
  {
   "cell_type": "markdown",
   "id": "5ed0f8a5",
   "metadata": {
    "id": "Dk03ucRHMJNZ"
   },
   "source": [
    "We first try to utilize ridge regression to improve the performance of the linear regression. Keeping all the conditions invariant, we employ ridge regression like:"
   ]
  },
  {
   "cell_type": "code",
   "execution_count": null,
   "id": "0b8841bb",
   "metadata": {
    "colab": {
     "base_uri": "https://localhost:8080/",
     "height": 888
    },
    "id": "__Yb2UrVsXzV",
    "outputId": "656f81df-37db-48db-e34f-3accb52f950a"
   },
   "outputs": [],
   "source": [
    "ridge_pipe = Pipeline([\n",
    "    (\"pre\", preprocessor),\n",
    "    ('model', Ridge(alpha=10.0)),\n",
    "])\n",
    "\n",
    "ridge_pipe.fit(X_train, y_train)\n",
    "print(f\"R^2 socre: {ridge_pipe.score(X_test, y_test)}\")\n",
    "print(f\"MSE socre: {mean_squared_error(y_test, ridge_pipe.predict(X_test))}\")\n",
    "print(f\"model intercept: {ridge_pipe.named_steps['model'].intercept_}\")\n",
    "print(f\"model coefficients: {ridge_pipe.named_steps['model'].coef_}\")\n",
    "\n",
    "# plot the prediction\n",
    "X_test_sample = X_test.sample(100)\n",
    "y_test_sample = y_test.loc[X_test_sample.index]\n",
    "plot_prediction(ridge_pipe, X_test_sample, y_test_sample)"
   ]
  },
  {
   "cell_type": "markdown",
   "id": "a11264e4",
   "metadata": {
    "id": "wYDfNVnAMZ91"
   },
   "source": [
    "We also could try to utlize some polynomial features to increase the performance of the regression:"
   ]
  },
  {
   "cell_type": "code",
   "execution_count": null,
   "id": "3cf8eac6",
   "metadata": {
    "colab": {
     "base_uri": "https://localhost:8080/",
     "height": 906
    },
    "id": "bbq9JLIIx8Lg",
    "outputId": "bf9b71d2-19d4-445a-beef-8b588d414bac"
   },
   "outputs": [],
   "source": [
    "# add some more features\n",
    "new_df['nsmiles_squared'] = new_df['nsmiles'] ** 2\n",
    "new_df['price_squared'] = new_df['Price'] ** 2\n",
    "new_df['nsmiles_times_price'] = new_df['Price'] * new_df['nsmiles']\n",
    "\n",
    "X = new_df[['nsmiles', 'quarter', 'Year', 'Price', 'nsmiles_squared', 'price_squared', 'nsmiles_times_price']]\n",
    "Y = new_df['fare']\n",
    "\n",
    "X_train, X_test, y_train, y_test = train_test_split(\n",
    "    X, Y, test_size=0.2, random_state=42\n",
    ")\n",
    "\n",
    "new_numerical_features = ['Year', 'Price', 'nsmiles', 'nsmiles_squared', 'price_squared', 'nsmiles_times_price']\n",
    "new_categorical_features = ['quarter']\n",
    "\n",
    "new_preprocessor = ColumnTransformer(\n",
    "    transformers=[\n",
    "        (\"num\", StandardScaler(), new_numerical_features),\n",
    "        (\"cat\", OneHotEncoder(drop='first'), new_categorical_features)\n",
    "    ]\n",
    ")\n",
    "\n",
    "new_ridge_pipe = Pipeline([\n",
    "    (\"pre\", new_preprocessor),\n",
    "    ('model', Ridge(alpha=10.0)),\n",
    "])\n",
    "\n",
    "new_ridge_pipe.fit(X_train, y_train)\n",
    "print(f\"R^2 socre: {new_ridge_pipe.score(X_test, y_test)}\")\n",
    "print(f\"MSE socre: {mean_squared_error(y_test, new_ridge_pipe.predict(X_test))}\")\n",
    "print(f\"model intercept: {new_ridge_pipe.named_steps['model'].intercept_}\")\n",
    "print(f\"model coefficients: {new_ridge_pipe.named_steps['model'].coef_}\")\n",
    "\n",
    "X_test_sample = X_test.sample(100)\n",
    "y_test_sample = y_test.loc[X_test_sample.index]\n",
    "plot_prediction(new_ridge_pipe, X_test_sample, y_test_sample)"
   ]
  },
  {
   "cell_type": "markdown",
   "id": "e8b9f694",
   "metadata": {
    "id": "_JxlKZe5OKum"
   },
   "source": [
    "Utilizing the grid search technique to find the best parameter on the training set:"
   ]
  },
  {
   "cell_type": "code",
   "execution_count": null,
   "id": "3e260775",
   "metadata": {
    "colab": {
     "base_uri": "https://localhost:8080/"
    },
    "id": "soRfQZb5JAzi",
    "outputId": "a128bd65-d9ac-4452-9943-f6ac1833dd28"
   },
   "outputs": [],
   "source": [
    "# utilize grid search\n",
    "param_grid = {\n",
    "    'model__alpha': [0.01, 0.1, 1, 5, 10, 100]\n",
    "}\n",
    "\n",
    "grid = GridSearchCV(new_ridge_pipe, param_grid, cv=5)\n",
    "grid.fit(X_train, y_train)\n",
    "\n",
    "print(\"Best param: \", grid.best_params_)\n",
    "print(\"CV R² : \", grid.best_score_)\n",
    "print(\"Test R² : \", grid.score(X_test, y_test))\n",
    "print(\"Test MSE: \", mean_squared_error(y_test, grid.predict(X_test)))"
   ]
  },
  {
   "cell_type": "markdown",
   "id": "7221e12d",
   "metadata": {
    "id": "l4vtb5zy8SYw"
   },
   "source": [
    "Ridge regression only improve the model performance to the slightest level, showing that linear model could hardly address the prediction. Hence, more powerful non-linear models such as tree models and neural network could possibly help us to improve the performance of the model. Considering there are so many high dimensional categorical features, we think tree model like GBDT and XGBoost could be the best solution to such a problem."
   ]
  },
  {
   "cell_type": "markdown",
   "id": "4e4fd9e6",
   "metadata": {
    "id": "_103ET6DL-dg"
   },
   "source": [
    "## **4.3 Xgboost**"
   ]
  },
  {
   "cell_type": "markdown",
   "id": "2065256c",
   "metadata": {
    "id": "tHAWTWtoME6y"
   },
   "source": [
    "Linear model are not quite powerful when we have a lot of categorical data (i.e. the airport code and the name of the starting city). Also, linear model is not really good at dealing with multi-linear condition, this means that if the variables are highly correlated, the linear model may be ill-performed. Avoiding this case, we believe tree models like **Xgboost** is also a good way to address such a problem."
   ]
  },
  {
   "cell_type": "code",
   "execution_count": null,
   "id": "a4a0f0b4",
   "metadata": {
    "colab": {
     "base_uri": "https://localhost:8080/",
     "height": 853
    },
    "id": "Usq5B76SKPun",
    "outputId": "fd3429e8-fb57-43f4-e7f7-daeb8de90f98"
   },
   "outputs": [],
   "source": [
    "# involve more categorical data to make regression on Xgboost\n",
    "import xgboost as xgb\n",
    "from sklearn.metrics import mean_squared_error\n",
    "\n",
    "df = df_clean.copy()\n",
    "\n",
    "tree_df = df[['fare', 'nsmiles', 'quarter', 'Year', 'city1', 'city2', 'passengers']].dropna()\n",
    "tree_df = pd.merge(tree_df, fuel_df_year_quarter, left_on=['Year', 'quarter'], right_on=['Year', 'Quarter'], how='left')\n",
    "tree_df = tree_df.drop(['Quarter'], axis=1)\n",
    "\n",
    "numerical_features = ['Year', 'Price', 'nsmiles']\n",
    "categorical_features = ['quarter', 'city1', 'city2']\n",
    "\n",
    "preprocessor = ColumnTransformer(\n",
    "    transformers=[\n",
    "        (\"num\", StandardScaler(), numerical_features),\n",
    "        (\"cat\", OneHotEncoder(drop='first'), categorical_features)\n",
    "    ]\n",
    ")\n",
    "\n",
    "X = tree_df[['nsmiles', 'quarter', 'Year', 'Price', 'city1', 'city2']]\n",
    "X['quarter'] = X['quarter'].astype('category')\n",
    "X['city1'] = X['city1'].astype('category')\n",
    "X['city2'] = X['city2'].astype('category')\n",
    "\n",
    "y = tree_df['fare']\n",
    "\n",
    "X_train, X_test, y_train, y_test = train_test_split(\n",
    "    X, y, test_size=0.2, random_state=42\n",
    ")\n",
    "\n",
    "\n",
    "\n",
    "tree_model = xgb.XGBRegressor(\n",
    "    n_estimators=100,\n",
    "    learning_rate=0.1,\n",
    "    max_depth=6,\n",
    "    subsample=0.8,\n",
    "    colsample_bytree=0.8,\n",
    "    enable_categorical=True,\n",
    "    random_state=42\n",
    ")\n",
    "\n",
    "tree_model.fit(X_train, y_train)\n",
    "\n",
    "\n",
    "y_pred = tree_model.predict(X_test)\n",
    "\n",
    "\n",
    "mse = mean_squared_error(y_test, y_pred)\n",
    "print(f\"Test MSE: {mse:.4f}\")\n",
    "print(f\"Test R^2: {tree_model.score(X_test, y_test):.4f}\")\n",
    "\n",
    "X_test_sample = X_test.sample(100)\n",
    "y_test_sample = y_test.loc[X_test_sample.index]\n",
    "plot_prediction(tree_model, X_test_sample, y_test_sample)"
   ]
  },
  {
   "cell_type": "markdown",
   "id": "e257d88d",
   "metadata": {
    "id": "Zhc6KbfiP-xO"
   },
   "source": [
    "We could find there is a huge improvement when we try to adopt the tree model for regression, and we could do grid search to find the best parameters:"
   ]
  },
  {
   "cell_type": "code",
   "execution_count": null,
   "id": "755356f2",
   "metadata": {
    "colab": {
     "base_uri": "https://localhost:8080/",
     "height": 871
    },
    "id": "DSA_NNCaUQe0",
    "outputId": "931c1c89-3156-4c2a-b168-592ab74ac7d9"
   },
   "outputs": [],
   "source": [
    "xgb_model = xgb.XGBRegressor(\n",
    "    objective='reg:squarederror',\n",
    "    random_state=42,\n",
    "    enable_categorical=True\n",
    ")\n",
    "\n",
    "param_grid = {\n",
    "    'n_estimators': [100, 300],\n",
    "    'max_depth': [3, 5, 7],\n",
    "    'learning_rate': [0.01, 0.1],\n",
    "    'subsample': [0.8, 1.0]\n",
    "}\n",
    "\n",
    "grid_search = GridSearchCV(xgb_model, param_grid, cv=3, verbose=1, scoring='neg_mean_squared_error', n_jobs=-1)\n",
    "grid_search.fit(X_train, y_train)\n",
    "\n",
    "best_model = grid_search.best_estimator_\n",
    "y_pred = best_model.predict(X_test)\n",
    "\n",
    "\n",
    "print(f\"Test MSE: {mean_squared_error(y_test, y_pred)}\")\n",
    "print(f\"Test R^2: {best_model.score(X_test, y_test)}\")\n",
    "\n",
    "plot_prediction(best_model, X_test_sample, y_test_sample)"
   ]
  },
  {
   "cell_type": "markdown",
   "id": "f6a9b019",
   "metadata": {
    "id": "dZDKnJu07CZf"
   },
   "source": [
    "As we can see, employing the ensembled tree model like XGBoost could significantly increase the $R^2$ and decrease the MSE loss. Via grid search, we could also do the hyperparameter tuning on the train set, so that we could find the best hyperparameter on the test set and real world data. However, since the flight pricing model is a complicated and time-variant model which is the most top secret for the airlines, simply market data could hardly justify the model."
   ]
  },
  {
   "cell_type": "markdown",
   "id": "036a811b",
   "metadata": {
    "id": "x-m44yCSPgPL"
   },
   "source": [
    "# **6. Project Management**\n",
    "### 🗓️ Timeline & Milestones\n",
    "| 📌 Task                                | 🗓️ Deadline | ✅ Status     | 💬 Notes |\n",
    "|----------------------------------------|-------------|---------------|---------|\n",
    "| Data acquisition and initial cleaning  | April 5     | ✅ Completed  | All raw data sources merged and cleaned |\n",
    "| Exploratory Data Analysis (EDA)        | April 10    | ✅ Completed  | Key visuals and early insights generated |\n",
    "| Baseline regression model              | April 12    | ✅ Completed  | Linear regression used as a baseline |\n",
    "| Advanced model training (RF, XGBoost)  | April 20    | 🟡 In progress| Random Forest currently being tuned |\n",
    "| Model evaluation and result visualization | April 25 | ⏳ Upcoming   | Will compare models using R² and RMSE |\n",
    "| Final report writing and presentation  | April 30    | ⏳ Upcoming   | We’ll prepare slides, summary, and submit final deliverables |\n",
    "\n",
    "### 📈 Progress Tracking\n",
    "\n",
    "We are using a shared Google Colab and GitHub repository to:\n",
    "- Track task completion status\n",
    "- Share code updates and experiment logs\n",
    "- Collaboratively edit the final presentation and written report"
   ]
  },
  {
   "cell_type": "markdown",
   "id": "e57cbb9a",
   "metadata": {
    "id": "zRlPMflVPncA"
   },
   "source": [
    "# **7. Hypothesis Testing**\n",
    "To further validate our insights, we plan to conduct statistical hypothesis testing on key factors that may influence airfare pricing. The following hypotheses are proposed:\n",
    "\n",
    "1. **Competition Hypothesis**  \n",
    "   - **Null Hypothesis (H₀):** The level of market competition on a route has no significant correlation with average airfare.  \n",
    "   - **Testing Method:** Correlation analysis and significance testing of regression coefficients will be used to evaluate the impact of competition intensity on pricing.\n",
    "\n",
    "2. **Seasonality Hypothesis**  \n",
    "   - **Null Hypothesis (H₀):** Seasonal variations in airfare do not differ significantly across routes with varying travel distances.  \n",
    "   - **Testing Method:** Two-way ANOVA (Analysis of Variance) will be applied to examine the interaction effect between seasonality and route distance categories on airfare.\n",
    "\n",
    "3. **Fuel Price Impact Hypothesis**  \n",
    "   - **Null Hypothesis (H₀):** The influence of fuel price fluctuations on airfare does not vary significantly across different types of flight routes (e.g., short-haul vs. long-haul).  \n",
    "   - **Testing Method:** Panel data regression analysis will be used to assess differential impacts of fuel price changes across route types over time."
   ]
  },
  {
   "cell_type": "markdown",
   "id": "3b3104c1",
   "metadata": {
    "id": "YUU_KjgMdVqv"
   },
   "source": [
    "# **8. Difficulty & Challenge**\n",
    "todo ..\n"
   ]
  },
  {
   "cell_type": "markdown",
   "id": "017cf03f",
   "metadata": {
    "id": "KVGNr7fAdgZx"
   },
   "source": [
    "# **9. Conclusion & Future work**\n",
    "todo ..\n"
   ]
  }
 ],
 "metadata": {
  "kernelspec": {
   "display_name": "ai",
   "language": "python",
   "name": "python3"
  }
 },
 "nbformat": 4,
 "nbformat_minor": 5
}

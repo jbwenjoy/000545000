{
  "nbformat": 4,
  "nbformat_minor": 0,
  "metadata": {
    "colab": {
      "provenance": [],
      "include_colab_link": true
    },
    "kernelspec": {
      "name": "python3",
      "display_name": "Python 3"
    },
    "language_info": {
      "name": "python"
    }
  },
  "cells": [
    {
      "cell_type": "markdown",
      "metadata": {
        "id": "view-in-github",
        "colab_type": "text"
      },
      "source": [
        "<a href=\"https://colab.research.google.com/github/jbwenjoy/000545000/blob/main/CIS_545_Final.ipynb\" target=\"_parent\"><img src=\"https://colab.research.google.com/assets/colab-badge.svg\" alt=\"Open In Colab\"/></a>"
      ]
    },
    {
      "cell_type": "markdown",
      "source": [],
      "metadata": {
        "id": "JCYy3-oaNtcU"
      }
    },
    {
      "cell_type": "markdown",
      "source": [
        "# **CIS 5450 Final Project - Spring 2025**\n",
        "## Group Member:\n",
        "Yiyan Liang: edgarl@seas.upenn.edu\n",
        "<br>Bowen Jiang: jbwenjoy@seas.upenn.edu\n",
        "<br>Binglong Bao: binglong@seas.upenn.edu"
      ],
      "metadata": {
        "id": "gcAm1OLyNvWE"
      }
    },
    {
      "cell_type": "markdown",
      "source": [
        "# **1. Introduction and Background**"
      ],
      "metadata": {
        "id": "vS2nggaSOoXM"
      }
    },
    {
      "cell_type": "code",
      "source": [],
      "metadata": {
        "id": "ym8xnNKcO9KK"
      },
      "execution_count": null,
      "outputs": []
    },
    {
      "cell_type": "markdown",
      "source": [
        "# **2. Get to know data**"
      ],
      "metadata": {
        "id": "6AwNwCkzO9my"
      }
    },
    {
      "cell_type": "code",
      "source": [],
      "metadata": {
        "id": "c3YQPlxOPNyb"
      },
      "execution_count": null,
      "outputs": []
    },
    {
      "cell_type": "markdown",
      "source": [
        "# **3. EDA**"
      ],
      "metadata": {
        "id": "Y5sYhL1sPOXf"
      }
    },
    {
      "cell_type": "code",
      "source": [],
      "metadata": {
        "id": "haVud5WiPT8_"
      },
      "execution_count": null,
      "outputs": []
    },
    {
      "cell_type": "markdown",
      "source": [
        "# **4. Modeling**"
      ],
      "metadata": {
        "id": "5yC4K0JjPUh7"
      }
    },
    {
      "cell_type": "code",
      "source": [
        "import pandas as pd\n",
        "import numpy as np\n",
        "import matplotlib.pyplot as plt\n",
        "import plotly.graph_objects as go\n",
        "\n",
        "from sklearn.model_selection import train_test_split, GridSearchCV, cross_val_score\n",
        "from sklearn.pipeline import Pipeline\n",
        "from sklearn.preprocessing import MinMaxScaler, PolynomialFeatures, FunctionTransformer\n",
        "from sklearn.linear_model import Ridge\n",
        "from sklearn.linear_model import LinearRegression\n",
        "from sklearn.metrics import mean_squared_error, r2_score\n",
        "from sklearn.base import TransformerMixin, BaseEstimator"
      ],
      "metadata": {
        "id": "VNz8-EUmPf7o"
      },
      "execution_count": null,
      "outputs": []
    },
    {
      "cell_type": "code",
      "source": [
        "df = pd.read_csv('dataset.csv')\n",
        "df['quaters'] = df['quarter'].astype(int) + (df['Year'].astype(int) - 2000) * 4\n",
        "new_df = df[['fare', 'nsmiles', 'quaters']].dropna()\n",
        "\n",
        "X = new_df[['nsmiles', 'quaters']]\n",
        "y = new_df['fare']"
      ],
      "metadata": {
        "id": "XgVx7jcRP4Vz"
      },
      "execution_count": null,
      "outputs": []
    },
    {
      "cell_type": "code",
      "source": [
        "X_train, X_test, y_train, y_test = train_test_split(\n",
        "    X, y, test_size=0.2, random_state=42\n",
        ")"
      ],
      "metadata": {
        "id": "414kGw5BP7A8"
      },
      "execution_count": null,
      "outputs": []
    },
    {
      "cell_type": "code",
      "source": [
        "log_transformer = FunctionTransformer(np.log1p, inverse_func=np.expm1, validate=True)\n",
        "\n",
        "pipe = Pipeline([\n",
        "    ('scaler', MinMaxScaler()),\n",
        "    ('model', LinearRegression()),\n",
        "])\n",
        "\n",
        "pipe.fit(X_train, y_train)\n",
        "print(f\"R^2 socre: {pipe.score(X_test, y_test)}\")\n",
        "print(f\"MSE socre: {mean_squared_error(y_test, pipe.predict(X_test))}\")\n",
        "print(f\"model intercept: {pipe.named_steps['model'].intercept_}\")\n",
        "print(f\"model coefficients: {pipe.named_steps['model'].coef_}\")\n",
        "\n",
        "def plot_prediction(model,X_test, y_test):\n",
        "    y_test_pred = model.predict(X_test)\n",
        "    # use plotly to plot y_train_pred and y_test_pred vs y_train and y_test\n",
        "    fig = go.Figure()\n",
        "    # control figure size\n",
        "    fig.update_layout(width=800, height=800)\n",
        "    fig.add_trace(go.Scatter(x=y_test, y=y_test_pred, mode='markers', name='test'))\n",
        "    min_val = min(y_test.min(), y_test_pred.min())\n",
        "    max_val = max(y_test.max(), y_test_pred.max())\n",
        "    fig.update_xaxes(range=[min_val - 50, max_val + 50])\n",
        "    fig.update_yaxes(range=[min_val - 50, max_val + 50])\n",
        "    # add title and axis labels\n",
        "    fig.update_layout(title='Prediction vs Actual',\n",
        "                    xaxis_title='Actual',\n",
        "                    yaxis_title='Prediction')\n",
        "    fig.add_trace(go.Scatter(\n",
        "                    x=[min_val, max_val],\n",
        "                    y=[min_val, max_val],\n",
        "                    mode='lines',\n",
        "                    name='Ideal (y = x)',\n",
        "                    line=dict(color='red', dash='dash')\n",
        "    ))\n",
        "    fig.show()\n",
        "    return\n",
        "\n",
        "\n",
        "\n",
        "# sample some points from X_test and y_test\n",
        "X_test_sample = X_test.sample(100)\n",
        "y_test_sample = y_test.loc[X_test_sample.index]\n",
        "# plot the prediction\n",
        "plot_prediction(pipe, X_test_sample, y_test_sample)\n",
        "\n"
      ],
      "metadata": {
        "id": "9Tx9I_pTP8ye"
      },
      "execution_count": null,
      "outputs": []
    },
    {
      "cell_type": "markdown",
      "source": [
        "As we can see, the baseline linear regression model has a very low R-squared value. This means that the model is not a good fit for the data.\n",
        "We would like to further improve the performance by :\n",
        "1. Adding more features, such as dealing with the categorical features and using the one-hot encoding technique.\n",
        "2. Using more advanced machine learning algorithms, such as **kernel regression** and **gradient boosting trees**. These algorithms are designed to handle complex relationships between the features and the target variable. For example, kernel regression uses a kernel function to map the input features to a higher-dimensional space, while gradient boosting trees use a series of decision trees to build a strong predictive model. These algorithms can capture more complex relationships between the features and the target variable, which can lead to better performance than linear regression does.\n",
        "3. Tuning the hyperparameters of the machine learning algorithms to improve their performance."
      ],
      "metadata": {
        "id": "Zhc6KbfiP-xO"
      }
    },
    {
      "cell_type": "markdown",
      "source": [
        "# **5. Project Management**"
      ],
      "metadata": {
        "id": "x-m44yCSPgPL"
      }
    },
    {
      "cell_type": "markdown",
      "source": [
        "# **6. Hypothesis Testing**"
      ],
      "metadata": {
        "id": "zRlPMflVPncA"
      }
    },
    {
      "cell_type": "markdown",
      "source": [],
      "metadata": {
        "id": "mVYeITSzPspP"
      }
    }
  ]
}